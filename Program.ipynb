{
 "cells": [
  {
   "cell_type": "code",
   "execution_count": 116,
   "metadata": {},
   "outputs": [],
   "source": [
    "import pandas as pd\n",
    "import matplotlib.pyplot as plt\n",
    "import seaborn as sns\n",
    "import numpy as np\n",
    "from scipy.stats import norm\n",
    "from sklearn.preprocessing import StandardScaler\n",
    "from scipy import stats\n",
    "from scipy.stats import kurtosis, skew\n",
    "import warnings\n",
    "from sklearn.preprocessing import LabelEncoder\n",
    "warnings.filterwarnings('ignore')\n",
    "%matplotlib inline\n",
    "\n",
    "sns.set(style=\"ticks\", color_codes=True)\n",
    "\n"
   ]
  },
  {
   "cell_type": "markdown",
   "metadata": {},
   "source": [
    "# Importing Data"
   ]
  },
  {
   "cell_type": "code",
   "execution_count": 117,
   "metadata": {},
   "outputs": [],
   "source": [
    "train = pd.read_csv('train.csv')\n",
    "test = pd.read_csv('test.csv')"
   ]
  },
  {
   "cell_type": "code",
   "execution_count": 118,
   "metadata": {},
   "outputs": [],
   "source": [
    "train = train.drop(train[(train['GrLivArea']>4000) & (train['SalePrice']<300000)].index)"
   ]
  },
  {
   "cell_type": "code",
   "execution_count": 119,
   "metadata": {},
   "outputs": [
    {
     "data": {
      "image/png": "[encoded data removed]",
      "text/plain": [
       "<Figure size 432x288 with 1 Axes>"
      ]
     },
     "metadata": {},
     "output_type": "display_data"
    }
   ],
   "source": [
    "fig, ax = plt.subplots()\n",
    "ax.scatter(x = train['GrLivArea'], y = train['SalePrice'])\n",
    "plt.ylabel('SalePrice', fontsize=13)\n",
    "plt.xlabel('GrLivArea', fontsize=13)\n",
    "plt.show()\n",
    "\n"
   ]
  },
  {
   "cell_type": "code",
   "execution_count": 120,
   "metadata": {},
   "outputs": [
    {
     "data": {
      "text/html": [
       "<div>\n",
       "<style scoped>\n",
       "    .dataframe tbody tr th:only-of-type {\n",
       "        vertical-align: middle;\n",
       "    }\n",
       "\n",
       "    .dataframe tbody tr th {\n",
       "        vertical-align: top;\n",
       "    }\n",
       "\n",
       "    .dataframe thead th {\n",
       "        text-align: right;\n",
       "    }\n",
       "</style>\n",
       "<table border=\"1\" class=\"dataframe\">\n",
       "  <thead>\n",
       "    <tr style=\"text-align: right;\">\n",
       "      <th></th>\n",
       "      <th>Id</th>\n",
       "      <th>MSSubClass</th>\n",
       "      <th>MSZoning</th>\n",
       "      <th>LotFrontage</th>\n",
       "      <th>LotArea</th>\n",
       "      <th>Street</th>\n",
       "      <th>Alley</th>\n",
       "      <th>LotShape</th>\n",
       "      <th>LandContour</th>\n",
       "      <th>Utilities</th>\n",
       "      <th>...</th>\n",
       "      <th>PoolArea</th>\n",
       "      <th>PoolQC</th>\n",
       "      <th>Fence</th>\n",
       "      <th>MiscFeature</th>\n",
       "      <th>MiscVal</th>\n",
       "      <th>MoSold</th>\n",
       "      <th>YrSold</th>\n",
       "      <th>SaleType</th>\n",
       "      <th>SaleCondition</th>\n",
       "      <th>SalePrice</th>\n",
       "    </tr>\n",
       "  </thead>\n",
       "  <tbody>\n",
       "    <tr>\n",
       "      <th>0</th>\n",
       "      <td>136</td>\n",
       "      <td>20</td>\n",
       "      <td>RL</td>\n",
       "      <td>80.0</td>\n",
       "      <td>10400</td>\n",
       "      <td>Pave</td>\n",
       "      <td>NaN</td>\n",
       "      <td>Reg</td>\n",
       "      <td>Lvl</td>\n",
       "      <td>AllPub</td>\n",
       "      <td>...</td>\n",
       "      <td>0</td>\n",
       "      <td>NaN</td>\n",
       "      <td>MnPrv</td>\n",
       "      <td>NaN</td>\n",
       "      <td>0</td>\n",
       "      <td>5</td>\n",
       "      <td>2008</td>\n",
       "      <td>WD</td>\n",
       "      <td>Normal</td>\n",
       "      <td>174000</td>\n",
       "    </tr>\n",
       "    <tr>\n",
       "      <th>1</th>\n",
       "      <td>1453</td>\n",
       "      <td>180</td>\n",
       "      <td>RM</td>\n",
       "      <td>35.0</td>\n",
       "      <td>3675</td>\n",
       "      <td>Pave</td>\n",
       "      <td>NaN</td>\n",
       "      <td>Reg</td>\n",
       "      <td>Lvl</td>\n",
       "      <td>AllPub</td>\n",
       "      <td>...</td>\n",
       "      <td>0</td>\n",
       "      <td>NaN</td>\n",
       "      <td>NaN</td>\n",
       "      <td>NaN</td>\n",
       "      <td>0</td>\n",
       "      <td>5</td>\n",
       "      <td>2006</td>\n",
       "      <td>WD</td>\n",
       "      <td>Normal</td>\n",
       "      <td>145000</td>\n",
       "    </tr>\n",
       "    <tr>\n",
       "      <th>2</th>\n",
       "      <td>763</td>\n",
       "      <td>60</td>\n",
       "      <td>FV</td>\n",
       "      <td>72.0</td>\n",
       "      <td>8640</td>\n",
       "      <td>Pave</td>\n",
       "      <td>NaN</td>\n",
       "      <td>Reg</td>\n",
       "      <td>Lvl</td>\n",
       "      <td>AllPub</td>\n",
       "      <td>...</td>\n",
       "      <td>0</td>\n",
       "      <td>NaN</td>\n",
       "      <td>NaN</td>\n",
       "      <td>NaN</td>\n",
       "      <td>0</td>\n",
       "      <td>6</td>\n",
       "      <td>2010</td>\n",
       "      <td>Con</td>\n",
       "      <td>Normal</td>\n",
       "      <td>215200</td>\n",
       "    </tr>\n",
       "    <tr>\n",
       "      <th>3</th>\n",
       "      <td>933</td>\n",
       "      <td>20</td>\n",
       "      <td>RL</td>\n",
       "      <td>84.0</td>\n",
       "      <td>11670</td>\n",
       "      <td>Pave</td>\n",
       "      <td>NaN</td>\n",
       "      <td>IR1</td>\n",
       "      <td>Lvl</td>\n",
       "      <td>AllPub</td>\n",
       "      <td>...</td>\n",
       "      <td>0</td>\n",
       "      <td>NaN</td>\n",
       "      <td>NaN</td>\n",
       "      <td>NaN</td>\n",
       "      <td>0</td>\n",
       "      <td>3</td>\n",
       "      <td>2007</td>\n",
       "      <td>WD</td>\n",
       "      <td>Normal</td>\n",
       "      <td>320000</td>\n",
       "    </tr>\n",
       "    <tr>\n",
       "      <th>4</th>\n",
       "      <td>436</td>\n",
       "      <td>60</td>\n",
       "      <td>RL</td>\n",
       "      <td>43.0</td>\n",
       "      <td>10667</td>\n",
       "      <td>Pave</td>\n",
       "      <td>NaN</td>\n",
       "      <td>IR2</td>\n",
       "      <td>Lvl</td>\n",
       "      <td>AllPub</td>\n",
       "      <td>...</td>\n",
       "      <td>0</td>\n",
       "      <td>NaN</td>\n",
       "      <td>NaN</td>\n",
       "      <td>NaN</td>\n",
       "      <td>0</td>\n",
       "      <td>4</td>\n",
       "      <td>2009</td>\n",
       "      <td>ConLw</td>\n",
       "      <td>Normal</td>\n",
       "      <td>212000</td>\n",
       "    </tr>\n",
       "  </tbody>\n",
       "</table>\n",
       "<p>5 rows × 81 columns</p>\n",
       "</div>"
      ],
      "text/plain": [
       "     Id  MSSubClass MSZoning  LotFrontage  LotArea Street Alley LotShape  \\\n",
       "0   136          20       RL         80.0    10400   Pave   NaN      Reg   \n",
       "1  1453         180       RM         35.0     3675   Pave   NaN      Reg   \n",
       "2   763          60       FV         72.0     8640   Pave   NaN      Reg   \n",
       "3   933          20       RL         84.0    11670   Pave   NaN      IR1   \n",
       "4   436          60       RL         43.0    10667   Pave   NaN      IR2   \n",
       "\n",
       "  LandContour Utilities    ...     PoolArea PoolQC  Fence MiscFeature MiscVal  \\\n",
       "0         Lvl    AllPub    ...            0    NaN  MnPrv         NaN       0   \n",
       "1         Lvl    AllPub    ...            0    NaN    NaN         NaN       0   \n",
       "2         Lvl    AllPub    ...            0    NaN    NaN         NaN       0   \n",
       "3         Lvl    AllPub    ...            0    NaN    NaN         NaN       0   \n",
       "4         Lvl    AllPub    ...            0    NaN    NaN         NaN       0   \n",
       "\n",
       "  MoSold YrSold  SaleType  SaleCondition  SalePrice  \n",
       "0      5   2008        WD         Normal     174000  \n",
       "1      5   2006        WD         Normal     145000  \n",
       "2      6   2010       Con         Normal     215200  \n",
       "3      3   2007        WD         Normal     320000  \n",
       "4      4   2009     ConLw         Normal     212000  \n",
       "\n",
       "[5 rows x 81 columns]"
      ]
     },
     "execution_count": 120,
     "metadata": {},
     "output_type": "execute_result"
    }
   ],
   "source": [
    "train.head()"
   ]
  },
  {
   "cell_type": "code",
   "execution_count": 121,
   "metadata": {},
   "outputs": [
    {
     "data": {
      "text/plain": [
       "81"
      ]
     },
     "execution_count": 121,
     "metadata": {},
     "output_type": "execute_result"
    }
   ],
   "source": [
    "len(train.columns)"
   ]
  },
  {
   "cell_type": "code",
   "execution_count": 122,
   "metadata": {},
   "outputs": [],
   "source": [
    "train_Id = train['Id']\n",
    "test_Id = test['Id']\n",
    "train.drop(\"Id\", axis = 1, inplace = True)\n",
    "test.drop(\"Id\", axis = 1, inplace = True)"
   ]
  },
  {
   "cell_type": "code",
   "execution_count": 123,
   "metadata": {},
   "outputs": [
    {
     "name": "stdout",
     "output_type": "stream",
     "text": [
      "\n",
      " mu = 181330.22 and sigma = 77652.56\n",
      "\n"
     ]
    },
    {
     "data": {
      "image/png": "[encoded data removed]",
      "text/plain": [
       "<Figure size 432x288 with 1 Axes>"
      ]
     },
     "metadata": {},
     "output_type": "display_data"
    },
    {
     "data": {
      "image/png": "[encoded data removed]",
      "text/plain": [
       "<Figure size 432x288 with 1 Axes>"
      ]
     },
     "metadata": {},
     "output_type": "display_data"
    }
   ],
   "source": [
    "sns.distplot(train['SalePrice'] , fit=norm);\n",
    "\n",
    "# Get the fitted parameters used by the function\n",
    "(mu, sigma) = norm.fit(train['SalePrice'])\n",
    "print( '\\n mu = {:.2f} and sigma = {:.2f}\\n'.format(mu, sigma))\n",
    "\n",
    "#Now plot the distribution\n",
    "plt.legend(['Normal dist. ($\\mu=$ {:.2f} and $\\sigma=$ {:.2f} )'.format(mu, sigma)],\n",
    "            loc='best')\n",
    "plt.ylabel('Frequency')\n",
    "plt.title('SalePrice distribution')\n",
    "\n",
    "#Get also the QQ-plot\n",
    "fig = plt.figure()\n",
    "res = stats.probplot(train['SalePrice'], plot=plt)\n",
    "plt.show()"
   ]
  },
  {
   "cell_type": "code",
   "execution_count": 124,
   "metadata": {},
   "outputs": [],
   "source": [
    "train['SalePrice'] = np.log1p(train['SalePrice'])"
   ]
  },
  {
   "cell_type": "code",
   "execution_count": 125,
   "metadata": {},
   "outputs": [
    {
     "data": {
      "text/plain": [
       "0    12.066816\n",
       "1    11.884496\n",
       "2    12.279328\n",
       "3    12.676079\n",
       "4    12.264346\n",
       "Name: SalePrice, dtype: float64"
      ]
     },
     "execution_count": 125,
     "metadata": {},
     "output_type": "execute_result"
    }
   ],
   "source": [
    "train['SalePrice'].head()"
   ]
  },
  {
   "cell_type": "code",
   "execution_count": 126,
   "metadata": {},
   "outputs": [
    {
     "data": {
      "image/png": "[encoded data removed]",
      "text/plain": [
       "<Figure size 864x648 with 2 Axes>"
      ]
     },
     "metadata": {},
     "output_type": "display_data"
    }
   ],
   "source": [
    "corrmat = train.corr()\n",
    "f, ax = plt.subplots(figsize=(12, 9))\n",
    "sns.heatmap(corrmat, vmax=.8, square=True);"
   ]
  },
  {
   "cell_type": "code",
   "execution_count": 127,
   "metadata": {},
   "outputs": [
    {
     "data": {
      "text/plain": [
       "SalePrice        1.000000\n",
       "OverallQual      0.817315\n",
       "GrLivArea        0.715624\n",
       "GarageCars       0.687771\n",
       "GarageArea       0.662332\n",
       "TotalBsmtSF      0.637558\n",
       "1stFlrSF         0.608198\n",
       "FullBath         0.582020\n",
       "YearBuilt        0.572574\n",
       "YearRemodAdd     0.567964\n",
       "GarageYrBlt      0.525722\n",
       "TotRmsAbvGrd     0.523919\n",
       "Fireplaces       0.488911\n",
       "MasVnrArea       0.426232\n",
       "BsmtFinSF1       0.366868\n",
       "LotFrontage      0.363678\n",
       "WoodDeckSF       0.344200\n",
       "2ndFlrSF         0.315387\n",
       "HalfBath         0.311718\n",
       "OpenPorchSF      0.289956\n",
       "LotArea          0.258862\n",
       "BsmtUnfSF        0.238059\n",
       "BsmtFullBath     0.230087\n",
       "BedroomAbvGr     0.195203\n",
       "ScreenPorch      0.122835\n",
       "PoolArea         0.106574\n",
       "MoSold           0.067421\n",
       "3SsnPorch        0.065941\n",
       "BsmtFinSF2       0.006599\n",
       "LowQualFinSF    -0.016807\n",
       "MiscVal         -0.018760\n",
       "YrSold          -0.021388\n",
       "OverallCond     -0.025890\n",
       "BsmtHalfBath    -0.034414\n",
       "MSSubClass      -0.084751\n",
       "EnclosedPorch   -0.160550\n",
       "KitchenAbvGr    -0.162185\n",
       "Name: SalePrice, dtype: float64"
      ]
     },
     "execution_count": 127,
     "metadata": {},
     "output_type": "execute_result"
    }
   ],
   "source": [
    "corrmat[\"SalePrice\"].sort_values(ascending=False)"
   ]
  },
  {
   "cell_type": "code",
   "execution_count": 128,
   "metadata": {},
   "outputs": [
    {
     "name": "stdout",
     "output_type": "stream",
     "text": [
      "all_data size is : (1458, 79)\n"
     ]
    }
   ],
   "source": [
    "ntrain = train.shape[0]\n",
    "ntest = test.shape[0]\n",
    "y_train = train.SalePrice.values\n",
    "all_data = pd.concat((train, test)).reset_index(drop=True)\n",
    "all_data.drop(['SalePrice'], axis=1, inplace=True)\n",
    "print(\"all_data size is : {}\".format(all_data.shape))\n",
    "\n",
    "\n",
    "all_data_na = (all_data.isnull().sum() / len(all_data)) * 100\n",
    "all_data_na = all_data_na.drop(all_data_na[all_data_na == 0].index).sort_values(ascending=False)[:30]\n",
    "missing_data = pd.DataFrame({'Missing Ratio' :all_data_na})\n"
   ]
  },
  {
   "cell_type": "markdown",
   "metadata": {},
   "source": [
    "# Steps we will take :\n",
    "## Find Correlation between columns with missing values and Target label and fill accordingly\n",
    "## Find positively correlated features and create new features out of those."
   ]
  },
  {
   "cell_type": "markdown",
   "metadata": {},
   "source": [
    "# Filling Missing Values :"
   ]
  },
  {
   "cell_type": "code",
   "execution_count": 129,
   "metadata": {},
   "outputs": [
    {
     "data": {
      "text/plain": [
       "Text(0.5, 1.0, 'Percent missing data by feature')"
      ]
     },
     "execution_count": 129,
     "metadata": {},
     "output_type": "execute_result"
    },
    {
     "data": {
      "image/png": "[encoded data removed]",
      "text/plain": [
       "<Figure size 1080x864 with 1 Axes>"
      ]
     },
     "metadata": {},
     "output_type": "display_data"
    }
   ],
   "source": [
    "f, ax = plt.subplots(figsize=(15, 12))\n",
    "plt.xticks(rotation='90')\n",
    "sns.barplot(x=all_data_na.index, y=all_data_na)\n",
    "plt.xlabel('Features', fontsize=15)\n",
    "plt.ylabel('Percent of missing values', fontsize=15)\n",
    "plt.title('Percent missing data by feature', fontsize=15)"
   ]
  },
  {
   "cell_type": "markdown",
   "metadata": {},
   "source": [
    "# As we can see there are 19 columns with missing values and the respective percentage of missing values."
   ]
  },
  {
   "cell_type": "code",
   "execution_count": 130,
   "metadata": {},
   "outputs": [],
   "source": [
    "\n",
    "\n",
    "#from scipy.stats import rv_discrete \n",
    "# def update(val):    \n",
    "#     global counter\n",
    "#     print(\"Counter value is \",counter)\n",
    "#     counter += 1\n",
    "#     print(\"value of val is\",val)\n",
    "#     if(val == 'None'): \n",
    "#         print(\"in if\")\n",
    "#         temp = poolQC_Values[poolQC_fillers[counter]]        \n",
    "#         counter += 1\n",
    "#         return temp\n",
    "        \n",
    "#     else:\n",
    "#         return val\n",
    "\n",
    "\n",
    "\n",
    "# iterator = 0\n",
    "\n",
    "# def gg(x):\n",
    "#     print(x)\n",
    "\n",
    "# temp = all_data['PoolQC'].apply(gg)\n",
    "# temp[:100]\n",
    "\n",
    "#all_data['temp'] = all_data['PoolQC'].apply(lambda val: pool)\n",
    "#all_data['PoolQC'].apply(lambda row: poolQC_Values[poolQC_fillers[counter]] if(row == 'None') else row['PoolQC'],axis = 1 )\n",
    "\n",
    "\n",
    "# print(all_data.iloc[816,'PoolQC'])\n",
    "# print(all_data.iloc[827,'PoolQC'])\n",
    "\n",
    "\n",
    "\n",
    "#poolQC_elements = pd.Series(all_data['PoolQC'].value_counts())\n",
    "#type(poolQC_elements)\n",
    "#length = all_data.shape[0]\n",
    "\n",
    "\n",
    "#print(\"values :\",train['PoolQC'].value_counts())\n",
    "# poolQC_probabilities = []\n",
    "#for val in poolQC_elements:\n",
    "#     print (\"Hello \",type(val))\n",
    "    \n",
    "# all_data['PoolQC'].head()\n",
    "\n",
    "#poolQC_elements.index.dtype\n"
   ]
  },
  {
   "cell_type": "markdown",
   "metadata": {},
   "source": [
    "# Filling Missing Values"
   ]
  },
  {
   "cell_type": "markdown",
   "metadata": {},
   "source": [
    "#  (1)PoolQC"
   ]
  },
  {
   "cell_type": "markdown",
   "metadata": {},
   "source": [
    "### Number of null values are about the same as total number of rows. Hence we can say that PoolQC is independent of salesPrice"
   ]
  },
  {
   "cell_type": "code",
   "execution_count": 131,
   "metadata": {},
   "outputs": [
    {
     "data": {
      "text/plain": [
       "<matplotlib.axes._subplots.AxesSubplot at 0x7effb4d9e780>"
      ]
     },
     "execution_count": 131,
     "metadata": {},
     "output_type": "execute_result"
    },
    {
     "data": {
      "image/png": "[encoded data removed]",
      "text/plain": [
       "<Figure size 432x288 with 1 Axes>"
      ]
     },
     "metadata": {},
     "output_type": "display_data"
    }
   ],
   "source": [
    "sns.boxplot(x='PoolQC',y='SalePrice',data=train)"
   ]
  },
  {
   "cell_type": "code",
   "execution_count": 132,
   "metadata": {},
   "outputs": [
    {
     "data": {
      "image/png": "[encoded data removed]",
      "text/plain": [
       "<Figure size 360x360 with 1 Axes>"
      ]
     },
     "metadata": {},
     "output_type": "display_data"
    }
   ],
   "source": [
    "sns.catplot(x=\"PoolQC\", y=\"SalePrice\", data=train);"
   ]
  },
  {
   "cell_type": "code",
   "execution_count": 133,
   "metadata": {},
   "outputs": [
    {
     "data": {
      "text/plain": [
       "Gd    2\n",
       "Ex    2\n",
       "Fa    2\n",
       "Name: PoolQC, dtype: int64"
      ]
     },
     "execution_count": 133,
     "metadata": {},
     "output_type": "execute_result"
    }
   ],
   "source": [
    "all_data['PoolQC'].value_counts()"
   ]
  },
  {
   "cell_type": "code",
   "execution_count": 134,
   "metadata": {},
   "outputs": [
    {
     "data": {
      "text/plain": [
       "array([[65]])"
      ]
     },
     "execution_count": 134,
     "metadata": {},
     "output_type": "execute_result"
    }
   ],
   "source": [
    "#Find\n",
    "np.argwhere(all_data.columns == 'PoolQC')"
   ]
  },
  {
   "cell_type": "code",
   "execution_count": 135,
   "metadata": {},
   "outputs": [
    {
     "name": "stdout",
     "output_type": "stream",
     "text": [
      "Total Number of values  1458\n",
      "Number of Null Values 1452\n",
      "Before filling :\n",
      "None    1452\n",
      "Gd         2\n",
      "Fa         2\n",
      "Ex         2\n",
      "Name: PoolQC, dtype: int64\n"
     ]
    }
   ],
   "source": [
    "#Converting PoolQC column to categorical and then using a probability distribution to fill the None values.\n",
    "\n",
    "\n",
    "\n",
    "print(\"Total Number of values \", all_data['PoolQC'].shape[0])\n",
    "print(\"Number of Null Values\",all_data['PoolQC'].isna().sum())\n",
    "\n",
    "#Filling NaN with None because if you convert to categorical without filling out NaN values, pandas does not consider NaN \n",
    "# as one of the values  in the categorical column. \n",
    "\n",
    "# (1) Filling NaN with None values and make  the column categorical\n",
    "all_data[\"PoolQC\"] = all_data.PoolQC.fillna(\"None\")\n",
    "all_data['PoolQC'] = pd.Categorical(all_data.PoolQC)\n",
    "\n",
    "# (2) Finding probabilities of each occurance \n",
    "\n",
    "print(\"Before filling :\")\n",
    "print(all_data['PoolQC'].value_counts())\n",
    "\n",
    "\n",
    "\n",
    "# Count of 'Ex' : 2\n",
    "# Count of 'Gd' : 2\n",
    "# Count of 'Fa' : 2\n",
    "#Count of 'None' : 1452\n",
    "\n",
    "poolQC_probabilities = [0.98,0.006666667,0.006666667,0.006666667]\n",
    "poolQC_Values = ['None','Gd','Fa','Ex']\n",
    "\n",
    "\n",
    "#We need to replace only the 'None' type. Generating a sample from probability distribution\n",
    "indices = all_data[all_data['PoolQC'] == 'None'].index\n",
    "\n",
    "\n",
    "# (3) Use a distribution to fill out \"None\" values now.\n",
    "all_data.iloc[indices,65] = np.random.choice(poolQC_Values,len(indices),p=poolQC_probabilities)\n",
    "\n"
   ]
  },
  {
   "cell_type": "code",
   "execution_count": 136,
   "metadata": {},
   "outputs": [
    {
     "name": "stdout",
     "output_type": "stream",
     "text": [
      "After filling values using probability distribution\n"
     ]
    },
    {
     "data": {
      "text/plain": [
       "None    1425\n",
       "Gd        17\n",
       "Ex         9\n",
       "Fa         7\n",
       "Name: PoolQC, dtype: int64"
      ]
     },
     "execution_count": 136,
     "metadata": {},
     "output_type": "execute_result"
    }
   ],
   "source": [
    "print(\"After filling values using probability distribution\")\n",
    "all_data.PoolQC.value_counts()"
   ]
  },
  {
   "cell_type": "markdown",
   "metadata": {},
   "source": [
    "# (2)MiscFeature"
   ]
  },
  {
   "cell_type": "code",
   "execution_count": 137,
   "metadata": {},
   "outputs": [
    {
     "data": {
      "text/plain": [
       "Shed    49\n",
       "Othr     2\n",
       "Gar2     2\n",
       "TenC     1\n",
       "Name: MiscFeature, dtype: int64"
      ]
     },
     "execution_count": 137,
     "metadata": {},
     "output_type": "execute_result"
    }
   ],
   "source": [
    "all_data['MiscFeature'].shape[0]\n",
    "all_data.MiscFeature.value_counts()"
   ]
  },
  {
   "cell_type": "code",
   "execution_count": 138,
   "metadata": {},
   "outputs": [
    {
     "data": {
      "text/plain": [
       "<matplotlib.axes._subplots.AxesSubplot at 0x7effb4ce7d68>"
      ]
     },
     "execution_count": 138,
     "metadata": {},
     "output_type": "execute_result"
    },
    {
     "data": {
      "image/png": "[encoded data removed]",
      "text/plain": [
       "<Figure size 432x288 with 1 Axes>"
      ]
     },
     "metadata": {},
     "output_type": "display_data"
    }
   ],
   "source": [
    "sns.boxplot(x='MiscFeature',y='SalePrice',data=train)"
   ]
  },
  {
   "cell_type": "code",
   "execution_count": 139,
   "metadata": {},
   "outputs": [
    {
     "data": {
      "image/png": "[encoded data removed]",
      "text/plain": [
       "<Figure size 360x360 with 1 Axes>"
      ]
     },
     "metadata": {},
     "output_type": "display_data"
    }
   ],
   "source": [
    "sns.catplot(x=\"MiscFeature\", y=\"SalePrice\", data=train);"
   ]
  },
  {
   "cell_type": "code",
   "execution_count": 140,
   "metadata": {},
   "outputs": [
    {
     "name": "stdout",
     "output_type": "stream",
     "text": [
      "Before filling :\n",
      "None    1404\n",
      "Shed      49\n",
      "Othr       2\n",
      "Gar2       2\n",
      "TenC       1\n",
      "Name: MiscFeature, dtype: int64\n"
     ]
    }
   ],
   "source": [
    "#Number of Missing values in MiscFeature\n",
    "all_data.MiscFeature.isna().sum()  #  1404 Null values in this column \n",
    "\n",
    "\n",
    "\n",
    "#Filling NaN with None because if you convert to categorical without filling out NaN values, pandas does not consider NaN \n",
    "# as one of the values  in the categorical column. \n",
    "\n",
    "# (1) Filling NaN with None values and make  the column categorical\n",
    "all_data[\"MiscFeature\"] = all_data['MiscFeature'].fillna(\"None\")\n",
    "all_data['MiscFeature'] = pd.Categorical(all_data['MiscFeature'])\n",
    "\n",
    "all_data.MiscFeature = all_data.MiscFeature.astype('category')\n",
    "\n",
    "\n",
    "# (2) Finding probabilities of each occurance \n",
    "print(\"Before filling :\")\n",
    "print(all_data['MiscFeature'].value_counts())\n",
    "\n",
    "\n",
    "\n",
    "\n",
    "\n",
    "# Count of 'None' : 1404\n",
    "# Count of 'Shed' : 49\n",
    "# Count of 'Othr' : 2\n",
    "#Count of 'Gar2' : 2\n",
    "#Count of 'TenC' : 1\n",
    "\n",
    "\n",
    "\n",
    "\n",
    "MiscFeature_probabilities = [0.962962963,0.033607682,0.001371742,0.001371742,0.000685871]\n",
    "MiscFeature_Values = ['None','Shed','Othr','Gar2','TenC']\n",
    "\n",
    "\n",
    "#We need to replace only the 'None' type. Generating a sample from probability distribution\n",
    "indices = all_data[all_data['MiscFeature'] == 'None'].index\n",
    "\n",
    "\n",
    "#Find the column index so as to use 'iloc'   . 56 is the col\n",
    "np.argwhere(all_data.columns == 'MiscFeature')\n",
    "\n",
    "\n",
    "# (3) Use a distribution to fill out \"None\" values now.\n",
    "all_data.iloc[indices,56] = np.random.choice(MiscFeature_Values,len(indices),p=MiscFeature_probabilities)\n",
    "\n",
    "\n"
   ]
  },
  {
   "cell_type": "code",
   "execution_count": 141,
   "metadata": {},
   "outputs": [
    {
     "name": "stdout",
     "output_type": "stream",
     "text": [
      "After filling values using probability distribution\n"
     ]
    },
    {
     "data": {
      "text/plain": [
       "None    1351\n",
       "Shed      99\n",
       "Gar2       4\n",
       "Othr       3\n",
       "TenC       1\n",
       "Name: MiscFeature, dtype: int64"
      ]
     },
     "execution_count": 141,
     "metadata": {},
     "output_type": "execute_result"
    }
   ],
   "source": [
    "print(\"After filling values using probability distribution\")\n",
    "all_data['MiscFeature'].value_counts()"
   ]
  },
  {
   "cell_type": "markdown",
   "metadata": {},
   "source": [
    "# (3)Alley  "
   ]
  },
  {
   "cell_type": "code",
   "execution_count": 142,
   "metadata": {},
   "outputs": [
    {
     "data": {
      "text/plain": [
       "Grvl    50\n",
       "Pave    41\n",
       "Name: Alley, dtype: int64"
      ]
     },
     "execution_count": 142,
     "metadata": {},
     "output_type": "execute_result"
    }
   ],
   "source": [
    "all_data['Alley'].value_counts()"
   ]
  },
  {
   "cell_type": "code",
   "execution_count": 143,
   "metadata": {},
   "outputs": [
    {
     "data": {
      "image/png": "[encoded data removed]",
      "text/plain": [
       "<Figure size 360x360 with 1 Axes>"
      ]
     },
     "metadata": {},
     "output_type": "display_data"
    }
   ],
   "source": [
    "sns.catplot(x=\"Alley\", y=\"SalePrice\", data=train);"
   ]
  },
  {
   "cell_type": "code",
   "execution_count": 144,
   "metadata": {},
   "outputs": [
    {
     "data": {
      "image/png": "[encoded data removed]",
      "text/plain": [
       "<Figure size 432x288 with 1 Axes>"
      ]
     },
     "metadata": {},
     "output_type": "display_data"
    }
   ],
   "source": [
    "sns.boxplot(x='Alley',y='SalePrice',data=train);"
   ]
  },
  {
   "cell_type": "code",
   "execution_count": 145,
   "metadata": {},
   "outputs": [
    {
     "name": "stdout",
     "output_type": "stream",
     "text": [
      "Before filling :\n",
      "None    1367\n",
      "Grvl      50\n",
      "Pave      41\n",
      "Name: Alley, dtype: int64\n"
     ]
    }
   ],
   "source": [
    "#Number of Missing values in Alley\n",
    "all_data['Alley'].isna().sum()  #  1367 Null values in this column \n",
    "\n",
    "\n",
    "\n",
    "#Filling NaN with None because if you convert to categorical without filling out NaN values, pandas does not consider NaN \n",
    "# as one of the values  in the categorical column. \n",
    "\n",
    "# (1) Filling NaN with None values and make  the column categorical\n",
    "all_data[\"Alley\"] = all_data['Alley'].fillna(\"None\")\n",
    "all_data['Alley'] = pd.Categorical(all_data['Alley'])\n",
    "\n",
    "\n",
    "\n",
    "# (2) Finding probabilities of each occurance \n",
    "\n",
    "print(\"Before filling :\")\n",
    "print(all_data['Alley'].value_counts())\n",
    "\n",
    "\n",
    "# Count of 'None' : 1367\n",
    "# Count of 'Grvl' : 50\n",
    "# Count of 'Pave' : 41\n",
    "\n",
    "\n",
    "\n",
    "\n",
    "\n",
    "Alley_probabilities = [0.937585734,0.034293553,0.028120713]\n",
    "Alleyy_Values = ['None','Grvl','Pave']\n",
    "\n",
    "\n",
    "#We need to replace only the 'None' type. Generating a sample from probability distribution\n",
    "indices = all_data[all_data['Alley'] == 'None'].index\n",
    "\n",
    "\n",
    "#Find the column index so as to use 'iloc'   . 3 is the col\n",
    "np.argwhere(all_data.columns == 'Alley')\n",
    "\n",
    "\n",
    "# (3) Use a distribution to fill out \"None\" values now.\n",
    "all_data.iloc[indices,3] = np.random.choice(Alleyy_Values,len(indices),p=Alley_probabilities)"
   ]
  },
  {
   "cell_type": "code",
   "execution_count": 146,
   "metadata": {},
   "outputs": [
    {
     "name": "stdout",
     "output_type": "stream",
     "text": [
      "After filling values using probability distribution\n"
     ]
    },
    {
     "data": {
      "text/plain": [
       "None    1274\n",
       "Grvl     104\n",
       "Pave      80\n",
       "Name: Alley, dtype: int64"
      ]
     },
     "execution_count": 146,
     "metadata": {},
     "output_type": "execute_result"
    }
   ],
   "source": [
    "print(\"After filling values using probability distribution\")\n",
    "all_data['Alley'].value_counts()"
   ]
  },
  {
   "cell_type": "markdown",
   "metadata": {},
   "source": [
    "#  (3) Fence"
   ]
  },
  {
   "cell_type": "code",
   "execution_count": 147,
   "metadata": {},
   "outputs": [
    {
     "data": {
      "text/plain": [
       "MnPrv    157\n",
       "GdPrv     59\n",
       "GdWo      54\n",
       "MnWw      11\n",
       "Name: Fence, dtype: int64"
      ]
     },
     "execution_count": 147,
     "metadata": {},
     "output_type": "execute_result"
    }
   ],
   "source": [
    "all_data['Fence'].value_counts()"
   ]
  },
  {
   "cell_type": "code",
   "execution_count": 148,
   "metadata": {},
   "outputs": [
    {
     "data": {
      "text/plain": [
       "<seaborn.axisgrid.FacetGrid at 0x7effb4ba1518>"
      ]
     },
     "execution_count": 148,
     "metadata": {},
     "output_type": "execute_result"
    },
    {
     "data": {
      "image/png": "[encoded data removed]",
      "text/plain": [
       "<Figure size 360x360 with 1 Axes>"
      ]
     },
     "metadata": {},
     "output_type": "display_data"
    }
   ],
   "source": [
    "sns.catplot(x='Fence',y='SalePrice',data=train)"
   ]
  },
  {
   "cell_type": "code",
   "execution_count": 149,
   "metadata": {},
   "outputs": [
    {
     "data": {
      "text/plain": [
       "<matplotlib.axes._subplots.AxesSubplot at 0x7eff9a91f7f0>"
      ]
     },
     "execution_count": 149,
     "metadata": {},
     "output_type": "execute_result"
    },
    {
     "data": {
      "image/png": "[encoded data removed]",
      "text/plain": [
       "<Figure size 432x288 with 1 Axes>"
      ]
     },
     "metadata": {},
     "output_type": "display_data"
    }
   ],
   "source": [
    "sns.boxplot(x='Fence',y='SalePrice',data=train)"
   ]
  },
  {
   "cell_type": "code",
   "execution_count": 150,
   "metadata": {},
   "outputs": [
    {
     "name": "stdout",
     "output_type": "stream",
     "text": [
      "Before filling :\n",
      "None     1177\n",
      "MnPrv     157\n",
      "GdPrv      59\n",
      "GdWo       54\n",
      "MnWw       11\n",
      "Name: Fence, dtype: int64\n"
     ]
    }
   ],
   "source": [
    "#Number of Missing values in Alley\n",
    "all_data['Fence'].isna().sum()  #  1177 Null values in this column \n",
    "\n",
    "\n",
    "\n",
    "#Filling NaN with None because if you convert to categorical without filling out NaN values, pandas does not consider NaN \n",
    "# as one of the values  in the categorical column. \n",
    "\n",
    "# (1) Filling NaN with None values and make  the column categorical\n",
    "all_data[\"Fence\"] = all_data['Fence'].fillna(\"None\")\n",
    "all_data['Fence'] = pd.Categorical(all_data['Fence'])\n",
    "\n",
    "\n",
    "\n",
    "# (2) Finding probabilities of each occurance \n",
    "\n",
    "print(\"Before filling :\")\n",
    "print(all_data['Fence'].value_counts())\n",
    "\n",
    "\n",
    "# Count of 'None' : 1177\n",
    "# Count of 'MnPrv' : 157\n",
    "# Count of 'GdPrv' : 59\n",
    "# Count of 'GdWo' : 54\n",
    "# Count of 'MnWw' : 11\n",
    "\n",
    "\n",
    "\n",
    "\n",
    "\n",
    "Fence_probabilities = [0.807270233,0.107681756,0.040466392,0.037037037,0.007544582]\n",
    "Fence_Values = ['None','MnPrv','GdPrv','GdWo','MnWw']\n",
    "\n",
    "\n",
    "#We need to replace only the 'None' type. Generating a sample from probability distribution\n",
    "indices = all_data[all_data['Fence'] == 'None'].index\n",
    "\n",
    "\n",
    "#Find the column index so as to use 'iloc'   . 25 is the col\n",
    "np.argwhere(all_data.columns == 'Fence')\n",
    "\n",
    "\n",
    "# (3) Use a distribution to fill out \"None\" values now.\n",
    "all_data.iloc[indices,25] = np.random.choice(Fence_Values,len(indices),p=Fence_probabilities)\n",
    "\n"
   ]
  },
  {
   "cell_type": "code",
   "execution_count": 151,
   "metadata": {},
   "outputs": [
    {
     "name": "stdout",
     "output_type": "stream",
     "text": [
      "After filling values using probability distribution\n"
     ]
    },
    {
     "data": {
      "text/plain": [
       "None     962\n",
       "MnPrv    275\n",
       "GdWo     102\n",
       "GdPrv    100\n",
       "MnWw      19\n",
       "Name: Fence, dtype: int64"
      ]
     },
     "execution_count": 151,
     "metadata": {},
     "output_type": "execute_result"
    }
   ],
   "source": [
    "print(\"After filling values using probability distribution\")\n",
    "all_data['Fence'].value_counts()"
   ]
  },
  {
   "cell_type": "markdown",
   "metadata": {},
   "source": [
    "# (4) FirePlace"
   ]
  },
  {
   "cell_type": "code",
   "execution_count": 152,
   "metadata": {},
   "outputs": [
    {
     "data": {
      "text/plain": [
       "Gd    378\n",
       "TA    313\n",
       "Fa     33\n",
       "Ex     24\n",
       "Po     20\n",
       "Name: FireplaceQu, dtype: int64"
      ]
     },
     "execution_count": 152,
     "metadata": {},
     "output_type": "execute_result"
    }
   ],
   "source": [
    "all_data['FireplaceQu'].value_counts()"
   ]
  },
  {
   "cell_type": "code",
   "execution_count": 153,
   "metadata": {},
   "outputs": [
    {
     "data": {
      "text/plain": [
       "<matplotlib.axes._subplots.AxesSubplot at 0x7eff9a904860>"
      ]
     },
     "execution_count": 153,
     "metadata": {},
     "output_type": "execute_result"
    },
    {
     "data": {
      "image/png": "[encoded data removed]",
      "text/plain": [
       "<Figure size 432x288 with 1 Axes>"
      ]
     },
     "metadata": {},
     "output_type": "display_data"
    }
   ],
   "source": [
    "sns.boxplot(x='FireplaceQu',y='SalePrice',data=train)"
   ]
  },
  {
   "cell_type": "code",
   "execution_count": 154,
   "metadata": {},
   "outputs": [
    {
     "data": {
      "text/plain": [
       "<seaborn.axisgrid.FacetGrid at 0x7effb4b8b320>"
      ]
     },
     "execution_count": 154,
     "metadata": {},
     "output_type": "execute_result"
    },
    {
     "data": {
      "image/png": "[encoded data removed]",
      "text/plain": [
       "<Figure size 360x360 with 1 Axes>"
      ]
     },
     "metadata": {},
     "output_type": "display_data"
    }
   ],
   "source": [
    "sns.catplot(x='FireplaceQu',y='SalePrice',data=train)"
   ]
  },
  {
   "cell_type": "code",
   "execution_count": 155,
   "metadata": {},
   "outputs": [
    {
     "data": {
      "text/plain": [
       "array([[26]])"
      ]
     },
     "execution_count": 155,
     "metadata": {},
     "output_type": "execute_result"
    }
   ],
   "source": [
    "np.argwhere(all_data.columns == 'FireplaceQu')"
   ]
  },
  {
   "cell_type": "code",
   "execution_count": 156,
   "metadata": {},
   "outputs": [
    {
     "name": "stdout",
     "output_type": "stream",
     "text": [
      "Before filling :\n",
      "None    690\n",
      "Gd      378\n",
      "TA      313\n",
      "Fa       33\n",
      "Ex       24\n",
      "Po       20\n",
      "Name: FireplaceQu, dtype: int64\n"
     ]
    }
   ],
   "source": [
    "#Number of Missing values in FireplaceQu\n",
    "all_data['FireplaceQu'].isna().sum()  #  690 Null values in this column \n",
    "\n",
    "\n",
    "\n",
    "#Filling NaN with None because if you convert to categorical without filling out NaN values, pandas does not consider NaN \n",
    "# as one of the values  in the categorical column. \n",
    "\n",
    "# (1) Filling NaN with None values and make  the column categorical\n",
    "all_data[\"FireplaceQu\"] = all_data['FireplaceQu'].fillna(\"None\")\n",
    "all_data['FireplaceQu'] = pd.Categorical(all_data['FireplaceQu'])\n",
    "\n",
    "\n",
    "\n",
    "# (2) Finding probabilities of each occurance \n",
    "print(\"Before filling :\")\n",
    "print(all_data['FireplaceQu'].value_counts())\n",
    "\n",
    "\n",
    "# Count of 'None' : 690\n",
    "# Count of 'Gd' : 378\n",
    "# Count of 'TA' : 313\n",
    "# Count of 'Fa' : 33\n",
    "# Count of 'Ex' : 24\n",
    "# Count of 'Po' : 20\n",
    "\n",
    "\n",
    "\n",
    "\n",
    "FireplaceQu_probabilities = [0.473251029,0.259259259,0.214677641,0.022633745,0.016460905,0.013717421]\n",
    "FireplaceQu_Values = ['None','Gd','TA','Fa','Ex','Po']\n",
    "\n",
    "\n",
    "#We need to replace only the 'None' type. Generating a sample from probability distribution\n",
    "indices = all_data[all_data['FireplaceQu'] == 'None'].index\n",
    "\n",
    "\n",
    "#Find the column index so as to use 'iloc'   . 26 is the col\n",
    "np.argwhere(all_data.columns == 'FireplaceQu')\n",
    "\n",
    "\n",
    "# (3) Use a distribution to fill out \"None\" values now.\n",
    "all_data.iloc[indices,26] = np.random.choice(FireplaceQu_Values,len(indices),p=FireplaceQu_probabilities)\n",
    "\n"
   ]
  },
  {
   "cell_type": "code",
   "execution_count": 157,
   "metadata": {},
   "outputs": [
    {
     "name": "stdout",
     "output_type": "stream",
     "text": [
      "After filling :\n"
     ]
    },
    {
     "data": {
      "text/plain": [
       "Gd      555\n",
       "TA      468\n",
       "None    316\n",
       "Fa       57\n",
       "Ex       38\n",
       "Po       24\n",
       "Name: FireplaceQu, dtype: int64"
      ]
     },
     "execution_count": 157,
     "metadata": {},
     "output_type": "execute_result"
    }
   ],
   "source": [
    "print(\"After filling :\")\n",
    "all_data['FireplaceQu'].value_counts()"
   ]
  },
  {
   "cell_type": "markdown",
   "metadata": {},
   "source": [
    "# (5) LotFrontage"
   ]
  },
  {
   "cell_type": "code",
   "execution_count": 158,
   "metadata": {},
   "outputs": [],
   "source": [
    "'''\n",
    "Assuming houses belonging to the same Neighborhood will have similar LotFrontage, we groupby Neighborhood\n",
    "and then take mean for each locality. Then we substitute the missing values of a particular Neighborhood with\n",
    "the mean of that Neighborhood\n",
    "'''\n",
    "\n",
    "\n",
    "lotFrontage_df = all_data[['Neighborhood','LotFrontage']].copy()\n",
    "groupby_Neighborhood = lotFrontage_df.groupby('Neighborhood')\n",
    "\n",
    "indices = all_data[all_data['LotFrontage'].isna()].index\n",
    "\n",
    "\n",
    "mean_Neighborhood = groupby_Neighborhood.mean()\n",
    "mean_Neighborhood.head()\n",
    "\n",
    "\n",
    "for i in indices:    \n",
    "    locality = all_data.iloc[i,59]      \n",
    "    value = mean_Neighborhood.get_value(locality,'LotFrontage')     \n",
    "    all_data.iloc[i,49] = value\n",
    "   "
   ]
  },
  {
   "cell_type": "markdown",
   "metadata": {},
   "source": [
    "# (6)GarageYrBlt (7) GarageArea (8) GarageCar"
   ]
  },
  {
   "cell_type": "code",
   "execution_count": 159,
   "metadata": {},
   "outputs": [],
   "source": [
    "for col in ('GarageYrBlt', 'GarageArea', 'GarageCars'):\n",
    "    all_data[col] = all_data[col].fillna(0)"
   ]
  },
  {
   "cell_type": "markdown",
   "metadata": {},
   "source": [
    "# (9)GarageType (10) GarageFinish (11) GarageQual (12)GarageCond"
   ]
  },
  {
   "cell_type": "code",
   "execution_count": 160,
   "metadata": {},
   "outputs": [],
   "source": [
    "for col in ('GarageType', 'GarageFinish', 'GarageQual', 'GarageCond'):\n",
    "    all_data[col] = all_data[col].fillna('None')"
   ]
  },
  {
   "cell_type": "code",
   "execution_count": 161,
   "metadata": {},
   "outputs": [
    {
     "data": {
      "text/plain": [
       "['BsmtCond',\n",
       " 'BsmtExposure',\n",
       " 'BsmtFinType1',\n",
       " 'BsmtFinType2',\n",
       " 'BsmtQual',\n",
       " 'Electrical',\n",
       " 'MasVnrArea',\n",
       " 'MasVnrType']"
      ]
     },
     "execution_count": 161,
     "metadata": {},
     "output_type": "execute_result"
    }
   ],
   "source": [
    "#Finding Remaining columns which have any null values\n",
    "all_data.columns[all_data.isnull().any()].tolist()"
   ]
  },
  {
   "cell_type": "code",
   "execution_count": 162,
   "metadata": {},
   "outputs": [
    {
     "data": {
      "text/html": [
       "<div>\n",
       "<style scoped>\n",
       "    .dataframe tbody tr th:only-of-type {\n",
       "        vertical-align: middle;\n",
       "    }\n",
       "\n",
       "    .dataframe tbody tr th {\n",
       "        vertical-align: top;\n",
       "    }\n",
       "\n",
       "    .dataframe thead th {\n",
       "        text-align: right;\n",
       "    }\n",
       "</style>\n",
       "<table border=\"1\" class=\"dataframe\">\n",
       "  <thead>\n",
       "    <tr style=\"text-align: right;\">\n",
       "      <th></th>\n",
       "      <th>BsmtCond</th>\n",
       "      <th>BsmtExposure</th>\n",
       "      <th>BsmtFinType1</th>\n",
       "      <th>BsmtFinType2</th>\n",
       "      <th>BsmtQual</th>\n",
       "    </tr>\n",
       "  </thead>\n",
       "  <tbody>\n",
       "    <tr>\n",
       "      <th>0</th>\n",
       "      <td>TA</td>\n",
       "      <td>No</td>\n",
       "      <td>Unf</td>\n",
       "      <td>Unf</td>\n",
       "      <td>TA</td>\n",
       "    </tr>\n",
       "    <tr>\n",
       "      <th>1</th>\n",
       "      <td>TA</td>\n",
       "      <td>Gd</td>\n",
       "      <td>GLQ</td>\n",
       "      <td>Unf</td>\n",
       "      <td>Gd</td>\n",
       "    </tr>\n",
       "    <tr>\n",
       "      <th>2</th>\n",
       "      <td>TA</td>\n",
       "      <td>Mn</td>\n",
       "      <td>GLQ</td>\n",
       "      <td>Unf</td>\n",
       "      <td>Gd</td>\n",
       "    </tr>\n",
       "    <tr>\n",
       "      <th>3</th>\n",
       "      <td>Gd</td>\n",
       "      <td>No</td>\n",
       "      <td>Unf</td>\n",
       "      <td>Unf</td>\n",
       "      <td>Ex</td>\n",
       "    </tr>\n",
       "    <tr>\n",
       "      <th>4</th>\n",
       "      <td>TA</td>\n",
       "      <td>Av</td>\n",
       "      <td>GLQ</td>\n",
       "      <td>ALQ</td>\n",
       "      <td>Gd</td>\n",
       "    </tr>\n",
       "  </tbody>\n",
       "</table>\n",
       "</div>"
      ],
      "text/plain": [
       "  BsmtCond BsmtExposure BsmtFinType1 BsmtFinType2 BsmtQual\n",
       "0       TA           No          Unf          Unf       TA\n",
       "1       TA           Gd          GLQ          Unf       Gd\n",
       "2       TA           Mn          GLQ          Unf       Gd\n",
       "3       Gd           No          Unf          Unf       Ex\n",
       "4       TA           Av          GLQ          ALQ       Gd"
      ]
     },
     "execution_count": 162,
     "metadata": {},
     "output_type": "execute_result"
    }
   ],
   "source": [
    "all_data[['BsmtCond','BsmtExposure','BsmtFinType1','BsmtFinType2','BsmtQual']].head()"
   ]
  },
  {
   "cell_type": "code",
   "execution_count": 163,
   "metadata": {},
   "outputs": [
    {
     "name": "stdout",
     "output_type": "stream",
     "text": [
      "    BsmtCond BsmtExposure BsmtFinType1 BsmtFinType2 BsmtQual\n",
      "33       NaN          NaN          NaN          NaN      NaN\n",
      "102      NaN          NaN          NaN          NaN      NaN\n",
      "118      NaN          NaN          NaN          NaN      NaN\n",
      "133      NaN          NaN          NaN          NaN      NaN\n",
      "152      NaN          NaN          NaN          NaN      NaN\n"
     ]
    },
    {
     "data": {
      "text/plain": [
       "\"\\n\\ncols = ['BsmtCond','BsmtExposure','BsmtFinType1','BsmtFinType2','BsmtQual']\\n When Either of cols is NaN , all the remaining columns in cols are also NaN.\\nMeaning when a basement doesnt exist, other values also dont exist\\nWe can directly replace NaN with None\\n\\n\""
      ]
     },
     "execution_count": 163,
     "metadata": {},
     "output_type": "execute_result"
    }
   ],
   "source": [
    "indices = all_data[all_data['BsmtCond'].isna()].index\n",
    "print(all_data.iloc[indices][['BsmtCond','BsmtExposure','BsmtFinType1','BsmtFinType2','BsmtQual']].head())\n",
    "\n",
    "'''\n",
    "\n",
    "cols = ['BsmtCond','BsmtExposure','BsmtFinType1','BsmtFinType2','BsmtQual']''''''\n",
    " When Either of cols is NaN , all the remaining columns in cols are also NaN.\n",
    "Meaning when a basement doesnt exist, other values also dont exist\n",
    "We can directly replace NaN with None\n",
    "\n",
    "'''"
   ]
  },
  {
   "cell_type": "code",
   "execution_count": 164,
   "metadata": {},
   "outputs": [],
   "source": [
    "for col in ('BsmtFinSF1', 'BsmtFinSF2', 'BsmtUnfSF','TotalBsmtSF', 'BsmtFullBath', 'BsmtHalfBath'):\n",
    "    all_data[col] = all_data[col].fillna(0)"
   ]
  },
  {
   "cell_type": "code",
   "execution_count": 165,
   "metadata": {},
   "outputs": [],
   "source": [
    "for col in ('BsmtCond','BsmtExposure','BsmtFinType1','BsmtFinType2','BsmtQual'):\n",
    "    all_data[col] = all_data[col].fillna('None')"
   ]
  },
  {
   "cell_type": "code",
   "execution_count": 166,
   "metadata": {},
   "outputs": [
    {
     "data": {
      "text/plain": [
       "['Electrical', 'MasVnrArea', 'MasVnrType']"
      ]
     },
     "execution_count": 166,
     "metadata": {},
     "output_type": "execute_result"
    }
   ],
   "source": [
    "#Remaining Cols:\n",
    "all_data.columns[all_data.isnull().any()].tolist()"
   ]
  },
  {
   "cell_type": "code",
   "execution_count": 167,
   "metadata": {},
   "outputs": [
    {
     "data": {
      "text/plain": [
       "1"
      ]
     },
     "execution_count": 167,
     "metadata": {},
     "output_type": "execute_result"
    }
   ],
   "source": [
    "indices = all_data[all_data['Electrical'].isna()].index\n",
    "indices\n",
    "\n",
    "#Electrical has only 1 Null value , hence replacing by most frequently occuring value i.e. mode of the column\n",
    "all_data['Electrical'].isna().sum()\n"
   ]
  },
  {
   "cell_type": "code",
   "execution_count": 168,
   "metadata": {},
   "outputs": [],
   "source": [
    "all_data['Electrical'] = all_data['Electrical'].fillna(all_data['Electrical'].mode()[0])\n",
    "\n",
    "\n",
    "#Similarly for Exterior1st, Exterior2nd,SaleType and KitchenQual\n",
    "all_data['Exterior1st'] = all_data['Exterior1st'].fillna(all_data['Exterior1st'].mode()[0])\n",
    "all_data['Exterior2nd'] = all_data['Exterior2nd'].fillna(all_data['Exterior2nd'].mode()[0])\n",
    "\n",
    "all_data['KitchenQual'] = all_data['KitchenQual'].fillna(all_data['KitchenQual'].mode()[0])\n",
    "\n",
    "all_data['SaleType'] = all_data['SaleType'].fillna(all_data['SaleType'].mode()[0])\n",
    "\n"
   ]
  },
  {
   "cell_type": "markdown",
   "metadata": {},
   "source": [
    "  # 'MasVnrArea','MasVnrType'"
   ]
  },
  {
   "cell_type": "code",
   "execution_count": 169,
   "metadata": {},
   "outputs": [
    {
     "data": {
      "text/plain": [
       "861"
      ]
     },
     "execution_count": 169,
     "metadata": {},
     "output_type": "execute_result"
    }
   ],
   "source": [
    "all_data[['MasVnrArea','MasVnrType']]\n",
    "indices = all_data[all_data['MasVnrArea'] == 0].index\n",
    "len(indices)"
   ]
  },
  {
   "cell_type": "code",
   "execution_count": 170,
   "metadata": {},
   "outputs": [
    {
     "data": {
      "text/plain": [
       "861"
      ]
     },
     "execution_count": 170,
     "metadata": {},
     "output_type": "execute_result"
    }
   ],
   "source": [
    "len(all_data.iloc[indices]['MasVnrType'])\n",
    "# When MasVnrArea is 0 then MasVnrType is None\n",
    "#Hence we will fill null values with correspondingly"
   ]
  },
  {
   "cell_type": "code",
   "execution_count": 171,
   "metadata": {},
   "outputs": [],
   "source": [
    "all_data['MasVnrArea'] = all_data['MasVnrArea'].fillna(0)\n",
    "all_data['MasVnrType'] = all_data['MasVnrType'].fillna('None')"
   ]
  },
  {
   "cell_type": "code",
   "execution_count": 172,
   "metadata": {},
   "outputs": [],
   "source": [
    "all_data['Utilities'].value_counts()\n",
    "# Only 1 value is 'NoSewa' and that value is in training set only and not in test set.\n",
    "#Removing this col as it will not help in predicting the output\n",
    "\n",
    "\n",
    "all_data = all_data.drop(['Utilities'], axis=1)\n",
    "\n"
   ]
  },
  {
   "cell_type": "markdown",
   "metadata": {},
   "source": [
    "### Other Cols"
   ]
  },
  {
   "cell_type": "code",
   "execution_count": 173,
   "metadata": {},
   "outputs": [],
   "source": [
    "all_data[\"Functional\"] = all_data[\"Functional\"].fillna(\"Typ\")\n",
    "all_data['MSSubClass'] = all_data['MSSubClass'].fillna(\"None\")"
   ]
  },
  {
   "cell_type": "markdown",
   "metadata": {},
   "source": [
    "# No remaining cols with missing values\n"
   ]
  },
  {
   "cell_type": "code",
   "execution_count": 174,
   "metadata": {},
   "outputs": [
    {
     "data": {
      "text/plain": [
       "[]"
      ]
     },
     "execution_count": 174,
     "metadata": {},
     "output_type": "execute_result"
    }
   ],
   "source": [
    "all_data.columns[all_data.isnull().any()].tolist()"
   ]
  },
  {
   "cell_type": "code",
   "execution_count": 175,
   "metadata": {},
   "outputs": [
    {
     "data": {
      "text/html": [
       "<div>\n",
       "<style scoped>\n",
       "    .dataframe tbody tr th:only-of-type {\n",
       "        vertical-align: middle;\n",
       "    }\n",
       "\n",
       "    .dataframe tbody tr th {\n",
       "        vertical-align: top;\n",
       "    }\n",
       "\n",
       "    .dataframe thead th {\n",
       "        text-align: right;\n",
       "    }\n",
       "</style>\n",
       "<table border=\"1\" class=\"dataframe\">\n",
       "  <thead>\n",
       "    <tr style=\"text-align: right;\">\n",
       "      <th></th>\n",
       "      <th>MSSubClass</th>\n",
       "      <th>MSZoning</th>\n",
       "      <th>LotFrontage</th>\n",
       "      <th>LotArea</th>\n",
       "      <th>Street</th>\n",
       "      <th>Alley</th>\n",
       "      <th>LotShape</th>\n",
       "      <th>LandContour</th>\n",
       "      <th>Utilities</th>\n",
       "      <th>LotConfig</th>\n",
       "      <th>...</th>\n",
       "      <th>PoolArea</th>\n",
       "      <th>PoolQC</th>\n",
       "      <th>Fence</th>\n",
       "      <th>MiscFeature</th>\n",
       "      <th>MiscVal</th>\n",
       "      <th>MoSold</th>\n",
       "      <th>YrSold</th>\n",
       "      <th>SaleType</th>\n",
       "      <th>SaleCondition</th>\n",
       "      <th>SalePrice</th>\n",
       "    </tr>\n",
       "  </thead>\n",
       "  <tbody>\n",
       "    <tr>\n",
       "      <th>0</th>\n",
       "      <td>20</td>\n",
       "      <td>RL</td>\n",
       "      <td>80.0</td>\n",
       "      <td>10400</td>\n",
       "      <td>Pave</td>\n",
       "      <td>NaN</td>\n",
       "      <td>Reg</td>\n",
       "      <td>Lvl</td>\n",
       "      <td>AllPub</td>\n",
       "      <td>Inside</td>\n",
       "      <td>...</td>\n",
       "      <td>0</td>\n",
       "      <td>NaN</td>\n",
       "      <td>MnPrv</td>\n",
       "      <td>NaN</td>\n",
       "      <td>0</td>\n",
       "      <td>5</td>\n",
       "      <td>2008</td>\n",
       "      <td>WD</td>\n",
       "      <td>Normal</td>\n",
       "      <td>12.066816</td>\n",
       "    </tr>\n",
       "    <tr>\n",
       "      <th>1</th>\n",
       "      <td>180</td>\n",
       "      <td>RM</td>\n",
       "      <td>35.0</td>\n",
       "      <td>3675</td>\n",
       "      <td>Pave</td>\n",
       "      <td>NaN</td>\n",
       "      <td>Reg</td>\n",
       "      <td>Lvl</td>\n",
       "      <td>AllPub</td>\n",
       "      <td>Inside</td>\n",
       "      <td>...</td>\n",
       "      <td>0</td>\n",
       "      <td>NaN</td>\n",
       "      <td>NaN</td>\n",
       "      <td>NaN</td>\n",
       "      <td>0</td>\n",
       "      <td>5</td>\n",
       "      <td>2006</td>\n",
       "      <td>WD</td>\n",
       "      <td>Normal</td>\n",
       "      <td>11.884496</td>\n",
       "    </tr>\n",
       "    <tr>\n",
       "      <th>2</th>\n",
       "      <td>60</td>\n",
       "      <td>FV</td>\n",
       "      <td>72.0</td>\n",
       "      <td>8640</td>\n",
       "      <td>Pave</td>\n",
       "      <td>NaN</td>\n",
       "      <td>Reg</td>\n",
       "      <td>Lvl</td>\n",
       "      <td>AllPub</td>\n",
       "      <td>Inside</td>\n",
       "      <td>...</td>\n",
       "      <td>0</td>\n",
       "      <td>NaN</td>\n",
       "      <td>NaN</td>\n",
       "      <td>NaN</td>\n",
       "      <td>0</td>\n",
       "      <td>6</td>\n",
       "      <td>2010</td>\n",
       "      <td>Con</td>\n",
       "      <td>Normal</td>\n",
       "      <td>12.279328</td>\n",
       "    </tr>\n",
       "    <tr>\n",
       "      <th>3</th>\n",
       "      <td>20</td>\n",
       "      <td>RL</td>\n",
       "      <td>84.0</td>\n",
       "      <td>11670</td>\n",
       "      <td>Pave</td>\n",
       "      <td>NaN</td>\n",
       "      <td>IR1</td>\n",
       "      <td>Lvl</td>\n",
       "      <td>AllPub</td>\n",
       "      <td>Corner</td>\n",
       "      <td>...</td>\n",
       "      <td>0</td>\n",
       "      <td>NaN</td>\n",
       "      <td>NaN</td>\n",
       "      <td>NaN</td>\n",
       "      <td>0</td>\n",
       "      <td>3</td>\n",
       "      <td>2007</td>\n",
       "      <td>WD</td>\n",
       "      <td>Normal</td>\n",
       "      <td>12.676079</td>\n",
       "    </tr>\n",
       "    <tr>\n",
       "      <th>4</th>\n",
       "      <td>60</td>\n",
       "      <td>RL</td>\n",
       "      <td>43.0</td>\n",
       "      <td>10667</td>\n",
       "      <td>Pave</td>\n",
       "      <td>NaN</td>\n",
       "      <td>IR2</td>\n",
       "      <td>Lvl</td>\n",
       "      <td>AllPub</td>\n",
       "      <td>CulDSac</td>\n",
       "      <td>...</td>\n",
       "      <td>0</td>\n",
       "      <td>NaN</td>\n",
       "      <td>NaN</td>\n",
       "      <td>NaN</td>\n",
       "      <td>0</td>\n",
       "      <td>4</td>\n",
       "      <td>2009</td>\n",
       "      <td>ConLw</td>\n",
       "      <td>Normal</td>\n",
       "      <td>12.264346</td>\n",
       "    </tr>\n",
       "    <tr>\n",
       "      <th>5</th>\n",
       "      <td>80</td>\n",
       "      <td>RL</td>\n",
       "      <td>82.0</td>\n",
       "      <td>9020</td>\n",
       "      <td>Pave</td>\n",
       "      <td>NaN</td>\n",
       "      <td>Reg</td>\n",
       "      <td>Lvl</td>\n",
       "      <td>AllPub</td>\n",
       "      <td>Corner</td>\n",
       "      <td>...</td>\n",
       "      <td>0</td>\n",
       "      <td>NaN</td>\n",
       "      <td>GdPrv</td>\n",
       "      <td>NaN</td>\n",
       "      <td>0</td>\n",
       "      <td>6</td>\n",
       "      <td>2008</td>\n",
       "      <td>WD</td>\n",
       "      <td>Normal</td>\n",
       "      <td>12.034697</td>\n",
       "    </tr>\n",
       "    <tr>\n",
       "      <th>6</th>\n",
       "      <td>60</td>\n",
       "      <td>RL</td>\n",
       "      <td>70.0</td>\n",
       "      <td>11218</td>\n",
       "      <td>Pave</td>\n",
       "      <td>NaN</td>\n",
       "      <td>Reg</td>\n",
       "      <td>Lvl</td>\n",
       "      <td>AllPub</td>\n",
       "      <td>Inside</td>\n",
       "      <td>...</td>\n",
       "      <td>0</td>\n",
       "      <td>NaN</td>\n",
       "      <td>GdPrv</td>\n",
       "      <td>Shed</td>\n",
       "      <td>400</td>\n",
       "      <td>5</td>\n",
       "      <td>2010</td>\n",
       "      <td>WD</td>\n",
       "      <td>Normal</td>\n",
       "      <td>12.149508</td>\n",
       "    </tr>\n",
       "    <tr>\n",
       "      <th>7</th>\n",
       "      <td>80</td>\n",
       "      <td>RL</td>\n",
       "      <td>85.0</td>\n",
       "      <td>13825</td>\n",
       "      <td>Pave</td>\n",
       "      <td>NaN</td>\n",
       "      <td>Reg</td>\n",
       "      <td>Lvl</td>\n",
       "      <td>AllPub</td>\n",
       "      <td>Inside</td>\n",
       "      <td>...</td>\n",
       "      <td>0</td>\n",
       "      <td>NaN</td>\n",
       "      <td>NaN</td>\n",
       "      <td>NaN</td>\n",
       "      <td>0</td>\n",
       "      <td>12</td>\n",
       "      <td>2008</td>\n",
       "      <td>WD</td>\n",
       "      <td>Normal</td>\n",
       "      <td>11.849405</td>\n",
       "    </tr>\n",
       "    <tr>\n",
       "      <th>8</th>\n",
       "      <td>60</td>\n",
       "      <td>RL</td>\n",
       "      <td>NaN</td>\n",
       "      <td>13031</td>\n",
       "      <td>Pave</td>\n",
       "      <td>NaN</td>\n",
       "      <td>IR2</td>\n",
       "      <td>Lvl</td>\n",
       "      <td>AllPub</td>\n",
       "      <td>Corner</td>\n",
       "      <td>...</td>\n",
       "      <td>0</td>\n",
       "      <td>NaN</td>\n",
       "      <td>NaN</td>\n",
       "      <td>NaN</td>\n",
       "      <td>0</td>\n",
       "      <td>7</td>\n",
       "      <td>2006</td>\n",
       "      <td>WD</td>\n",
       "      <td>Normal</td>\n",
       "      <td>12.141539</td>\n",
       "    </tr>\n",
       "    <tr>\n",
       "      <th>9</th>\n",
       "      <td>60</td>\n",
       "      <td>FV</td>\n",
       "      <td>100.0</td>\n",
       "      <td>12552</td>\n",
       "      <td>Pave</td>\n",
       "      <td>NaN</td>\n",
       "      <td>Reg</td>\n",
       "      <td>Lvl</td>\n",
       "      <td>AllPub</td>\n",
       "      <td>Corner</td>\n",
       "      <td>...</td>\n",
       "      <td>0</td>\n",
       "      <td>NaN</td>\n",
       "      <td>GdWo</td>\n",
       "      <td>NaN</td>\n",
       "      <td>0</td>\n",
       "      <td>5</td>\n",
       "      <td>2010</td>\n",
       "      <td>WD</td>\n",
       "      <td>Normal</td>\n",
       "      <td>12.448631</td>\n",
       "    </tr>\n",
       "  </tbody>\n",
       "</table>\n",
       "<p>10 rows × 80 columns</p>\n",
       "</div>"
      ],
      "text/plain": [
       "   MSSubClass MSZoning  LotFrontage  LotArea Street Alley LotShape  \\\n",
       "0          20       RL         80.0    10400   Pave   NaN      Reg   \n",
       "1         180       RM         35.0     3675   Pave   NaN      Reg   \n",
       "2          60       FV         72.0     8640   Pave   NaN      Reg   \n",
       "3          20       RL         84.0    11670   Pave   NaN      IR1   \n",
       "4          60       RL         43.0    10667   Pave   NaN      IR2   \n",
       "5          80       RL         82.0     9020   Pave   NaN      Reg   \n",
       "6          60       RL         70.0    11218   Pave   NaN      Reg   \n",
       "7          80       RL         85.0    13825   Pave   NaN      Reg   \n",
       "8          60       RL          NaN    13031   Pave   NaN      IR2   \n",
       "9          60       FV        100.0    12552   Pave   NaN      Reg   \n",
       "\n",
       "  LandContour Utilities LotConfig    ...     PoolArea PoolQC  Fence  \\\n",
       "0         Lvl    AllPub    Inside    ...            0    NaN  MnPrv   \n",
       "1         Lvl    AllPub    Inside    ...            0    NaN    NaN   \n",
       "2         Lvl    AllPub    Inside    ...            0    NaN    NaN   \n",
       "3         Lvl    AllPub    Corner    ...            0    NaN    NaN   \n",
       "4         Lvl    AllPub   CulDSac    ...            0    NaN    NaN   \n",
       "5         Lvl    AllPub    Corner    ...            0    NaN  GdPrv   \n",
       "6         Lvl    AllPub    Inside    ...            0    NaN  GdPrv   \n",
       "7         Lvl    AllPub    Inside    ...            0    NaN    NaN   \n",
       "8         Lvl    AllPub    Corner    ...            0    NaN    NaN   \n",
       "9         Lvl    AllPub    Corner    ...            0    NaN   GdWo   \n",
       "\n",
       "  MiscFeature MiscVal MoSold  YrSold  SaleType  SaleCondition  SalePrice  \n",
       "0         NaN       0      5    2008        WD         Normal  12.066816  \n",
       "1         NaN       0      5    2006        WD         Normal  11.884496  \n",
       "2         NaN       0      6    2010       Con         Normal  12.279328  \n",
       "3         NaN       0      3    2007        WD         Normal  12.676079  \n",
       "4         NaN       0      4    2009     ConLw         Normal  12.264346  \n",
       "5         NaN       0      6    2008        WD         Normal  12.034697  \n",
       "6        Shed     400      5    2010        WD         Normal  12.149508  \n",
       "7         NaN       0     12    2008        WD         Normal  11.849405  \n",
       "8         NaN       0      7    2006        WD         Normal  12.141539  \n",
       "9         NaN       0      5    2010        WD         Normal  12.448631  \n",
       "\n",
       "[10 rows x 80 columns]"
      ]
     },
     "execution_count": 175,
     "metadata": {},
     "output_type": "execute_result"
    }
   ],
   "source": [
    "train[:10]\n"
   ]
  },
  {
   "cell_type": "code",
   "execution_count": 176,
   "metadata": {},
   "outputs": [],
   "source": [
    "# MSSubClass is categorical as only a certain set of numbers are appearing. Hence converting it to categorical\n",
    "\n",
    "\n",
    "all_data['MSSubClass'].unique()\n",
    "#array([ 20, 180,  60,  80,  50,  75,  30,  70,  90, 120,  45, 190,  85,  160,  40])\n",
    "\n",
    "all_data['MSSubClass'] = all_data['MSSubClass'].apply(str)\n",
    "\n"
   ]
  },
  {
   "cell_type": "code",
   "execution_count": 177,
   "metadata": {},
   "outputs": [],
   "source": [
    "# OverallCond is categorical as only a certain set of numbers are appearing. Hence converting it to categorical\n",
    "\n",
    "\n",
    "all_data['OverallCond'].unique()\n",
    "#array([6, 5, 7, 8, 3, 4, 9, 2, 1])\n",
    "\n",
    "all_data['OverallCond'] = all_data['OverallCond'].apply(str)"
   ]
  },
  {
   "cell_type": "code",
   "execution_count": 178,
   "metadata": {},
   "outputs": [],
   "source": [
    "#Unlike Yrbuilt , YrSold is taking only a set of numbers converting it to categorical.\n",
    "all_data['YrSold'].unique()\n",
    "#array([2008, 2006, 2010, 2007, 2009])\n",
    "\n",
    "all_data['YrSold'] = all_data['YrSold'].astype(str)\n",
    "\n",
    "#Similarly for MonthSold ie MoSold\n",
    "all_data['MoSold'].unique()\n",
    "#array([ 5,  6,  3,  4, 12,  7,  8, 11,  1, 10,  2,  9])\n",
    "\n",
    "all_data['MoSold'] = all_data['MoSold'].astype(str)"
   ]
  },
  {
   "cell_type": "code",
   "execution_count": 179,
   "metadata": {},
   "outputs": [],
   "source": [
    "#As linear regression works only on columns with numeric values , Using labelEncoder to convert \n",
    "#the categorical colums to a numeric values\n",
    "\n",
    "\n",
    "#Set of columns which have categorical values:\n",
    "\n",
    "columns = ('FireplaceQu', 'BsmtQual', 'BsmtCond', 'GarageQual', 'GarageCond', \n",
    "        'ExterQual', 'ExterCond','HeatingQC', 'PoolQC', 'KitchenQual', 'BsmtFinType1', \n",
    "        'BsmtFinType2', 'Functional', 'Fence', 'BsmtExposure', 'GarageFinish', 'LandSlope',\n",
    "        'LotShape', 'PavedDrive', 'Street', 'Alley', 'CentralAir', 'MSSubClass', 'OverallCond', \n",
    "        'YrSold', 'MoSold')\n",
    "\n",
    "\n",
    "for column in columns:\n",
    "    lbl = LabelEncoder() \n",
    "    lbl.fit(list(all_data[column].values)) \n",
    "    all_data[column] = lbl.transform(list(all_data[column].values))"
   ]
  },
  {
   "cell_type": "code",
   "execution_count": 180,
   "metadata": {},
   "outputs": [
    {
     "ename": "NameError",
     "evalue": "name 'skewness' is not defined",
     "output_type": "error",
     "traceback": [
      "\u001b[0;31m---------------------------------------------------------------------------\u001b[0m",
      "\u001b[0;31mNameError\u001b[0m                                 Traceback (most recent call last)",
      "\u001b[0;32m<ipython-input-180-f258b7dd880a>\u001b[0m in \u001b[0;36m<module>\u001b[0;34m()\u001b[0m\n\u001b[0;32m----> 1\u001b[0;31m \u001b[0mskewness\u001b[0m \u001b[0;34m=\u001b[0m \u001b[0mskewness\u001b[0m\u001b[0;34m[\u001b[0m\u001b[0mabs\u001b[0m\u001b[0;34m(\u001b[0m\u001b[0mskewness\u001b[0m\u001b[0;34m)\u001b[0m \u001b[0;34m>\u001b[0m \u001b[0;36m0.75\u001b[0m\u001b[0;34m]\u001b[0m\u001b[0;34m\u001b[0m\u001b[0m\n\u001b[0m\u001b[1;32m      2\u001b[0m \u001b[0mprint\u001b[0m\u001b[0;34m(\u001b[0m\u001b[0;34m\"There are {} skewed numerical features to Box Cox transform\"\u001b[0m\u001b[0;34m.\u001b[0m\u001b[0mformat\u001b[0m\u001b[0;34m(\u001b[0m\u001b[0mskewness\u001b[0m\u001b[0;34m.\u001b[0m\u001b[0mshape\u001b[0m\u001b[0;34m[\u001b[0m\u001b[0;36m0\u001b[0m\u001b[0;34m]\u001b[0m\u001b[0;34m)\u001b[0m\u001b[0;34m)\u001b[0m\u001b[0;34m\u001b[0m\u001b[0m\n\u001b[1;32m      3\u001b[0m \u001b[0;34m\u001b[0m\u001b[0m\n\u001b[1;32m      4\u001b[0m \u001b[0;32mfrom\u001b[0m \u001b[0mscipy\u001b[0m\u001b[0;34m.\u001b[0m\u001b[0mspecial\u001b[0m \u001b[0;32mimport\u001b[0m \u001b[0mboxcox1p\u001b[0m\u001b[0;34m\u001b[0m\u001b[0m\n\u001b[1;32m      5\u001b[0m \u001b[0mskewed_features\u001b[0m \u001b[0;34m=\u001b[0m \u001b[0mskewness\u001b[0m\u001b[0;34m.\u001b[0m\u001b[0mindex\u001b[0m\u001b[0;34m\u001b[0m\u001b[0m\n",
      "\u001b[0;31mNameError\u001b[0m: name 'skewness' is not defined"
     ]
    }
   ],
   "source": [
    "skewness = skewness[abs(skewness) > 0.75]\n",
    "print(\"There are {} skewed numerical features to Box Cox transform\".format(skewness.shape[0]))\n",
    "\n",
    "from scipy.special import boxcox1p\n",
    "skewed_features = skewness.index\n",
    "lam = 0.15\n",
    "for feat in skewed_features:\n",
    "    #all_data[feat] += 1\n",
    "    all_data[feat] = boxcox1p(all_data[feat], lam)"
   ]
  },
  {
   "cell_type": "code",
   "execution_count": 181,
   "metadata": {},
   "outputs": [],
   "source": [
    "# This will map the labels of categorical data to 0,1,2,3 etc.\n",
    "all_data = pd.get_dummies(all_data)"
   ]
  },
  {
   "cell_type": "code",
   "execution_count": 182,
   "metadata": {},
   "outputs": [],
   "source": [
    "# As total square feet is important. Adding total sqfootage feature \n",
    "all_data['TotalSF'] = all_data['TotalBsmtSF'] + all_data['1stFlrSF'] + all_data['2ndFlrSF']\n"
   ]
  },
  {
   "cell_type": "code",
   "execution_count": 183,
   "metadata": {},
   "outputs": [],
   "source": [
    "from sklearn.linear_model import ElasticNet, Lasso,  BayesianRidge, LassoLarsIC\n",
    "from sklearn.ensemble import RandomForestRegressor,  GradientBoostingRegressor\n",
    "from sklearn.kernel_ridge import KernelRidge\n",
    "from sklearn.pipeline import make_pipeline\n",
    "from sklearn.preprocessing import RobustScaler\n",
    "from sklearn.base import BaseEstimator, TransformerMixin, RegressorMixin, clone\n",
    "from sklearn.model_selection import KFold, cross_val_score, train_test_split\n",
    "from sklearn.metrics import mean_squared_error\n",
    "import xgboost as xgb\n",
    "import lightgbm as lgb\n",
    "\n",
    "corrmat[\"SalePrice\"].sort_values(ascending=False)[1:9]\n",
    "\n",
    "#These features are positively correlated with the salePrice hence creating new features by \n",
    "#taking 3 polynomials square, cube and square root \n",
    "\n",
    "# OverallQual    0.817315\n",
    "# GrLivArea      0.715624\n",
    "# GarageCars     0.687771\n",
    "# GarageArea     0.662332\n",
    "# TotalBsmtSF    0.637558\n",
    "# 1stFlrSF       0.608198\n",
    "# FullBath       0.582020\n",
    "# YearBuilt      0.572574\n",
    "\n",
    "\n",
    "def positiveCorrelatedFeatures():\n",
    "    all_data[\"OverallQual-s2\"] = all_data[\"OverallQual\"] ** 2\n",
    "    all_data[\"OverallQual-s3\"] = all_data[\"OverallQual\"] ** 3\n",
    "    all_data[\"OverallQual-Sq\"] = np.sqrt(all_data[\"OverallQual\"])\n",
    "    \n",
    "    all_data[\"GrLivArea-s2\"] = all_data[\"GrLivArea\"] ** 2\n",
    "    all_data[\"GrLivArea-s3\"] = all_data[\"GrLivArea\"] ** 3\n",
    "    all_data[\"GrLivArea-Sq\"] = np.sqrt(all_data[\"GrLivArea\"])\n",
    "    \n",
    "    all_data[\"GarageCars-s2\"] = all_data[\"GarageCars\"] ** 2\n",
    "    all_data[\"GarageCars-s3\"] = all_data[\"GarageCars\"] ** 3\n",
    "    all_data[\"GarageCars-Sq\"] = np.sqrt(all_data[\"GarageCars\"])\n",
    "    \n",
    "    \n",
    "    all_data[\"GarageArea-s2\"] = all_data[\"GarageArea\"] ** 2\n",
    "    all_data[\"GarageArea-s3\"] = all_data[\"GarageArea\"] ** 3\n",
    "    all_data[\"GarageArea-Sq\"] = np.sqrt(all_data[\"GarageArea\"])\n",
    "    \n",
    "    \n",
    "    all_data[\"TotalBsmtSF-s2\"] = all_data[\"TotalBsmtSF\"] ** 2\n",
    "    all_data[\"TotalBsmtSF-s3\"] = all_data[\"TotalBsmtSF\"] ** 3\n",
    "    all_data[\"TotalBsmtSF-Sq\"] = np.sqrt(all_data[\"TotalBsmtSF\"])\n",
    "    \n",
    "    \n",
    "    all_data[\"1stFlrSF-s2\"] = all_data[\"1stFlrSF\"] ** 2\n",
    "    all_data[\"1stFlrSF-s3\"] = all_data[\"1stFlrSF\"] ** 3\n",
    "    all_data[\"1stFlrSF-Sq\"] = np.sqrt(all_data[\"1stFlrSF\"])\n",
    "    \n",
    "    all_data[\"FullBath-s2\"] = all_data[\"FullBath\"] ** 2\n",
    "    all_data[\"FullBath-s3\"] = all_data[\"FullBath\"] ** 3\n",
    "    all_data[\"FullBath-Sq\"] = np.sqrt(all_data[\"FullBath\"])\n",
    "    \n",
    "    all_data[\"YearBuilt-s2\"] = all_data[\"YearBuilt\"] ** 2\n",
    "    all_data[\"YearBuilt-s3\"] = all_data[\"YearBuilt\"] ** 3\n",
    "    all_data[\"YearBuilt-Sq\"] = np.sqrt(all_data[\"YearBuilt\"])\n",
    "    \n",
    "    \n",
    "    all_data[\"TotalSF-s2\"] = all_data[\"TotalSF\"] ** 2\n",
    "    all_data[\"TotalSF-s3\"] = all_data[\"TotalSF\"] ** 3\n",
    "    all_data[\"TotalSF-Sq\"] = np.sqrt(all_data[\"TotalSF\"])\n",
    "\n",
    "    \n",
    "# Rwarding / Giving importance to positively correlated features.\n",
    "positiveCorrelatedFeatures()  \n"
   ]
  },
  {
   "cell_type": "code",
   "execution_count": 184,
   "metadata": {},
   "outputs": [],
   "source": [
    "\n",
    "train = all_data[:ntrain]\n",
    "test = all_data[ntrain:]\n"
   ]
  },
  {
   "cell_type": "code",
   "execution_count": 185,
   "metadata": {},
   "outputs": [],
   "source": [
    "#Validation function\n",
    "n_folds = 5\n",
    "\n",
    "def rmsle_cv(model):\n",
    "    kf = KFold(n_folds, shuffle=True, random_state=42).get_n_splits(train.values)\n",
    "    rmse= np.sqrt(-cross_val_score(model, train.values, y_train, scoring=\"neg_mean_squared_error\", cv = kf))\n",
    "    return(rmse)"
   ]
  },
  {
   "cell_type": "code",
   "execution_count": 186,
   "metadata": {},
   "outputs": [],
   "source": [
    "#Lasso\n",
    "lasso = make_pipeline(RobustScaler(), Lasso(alpha =0.0005, random_state=1))\n",
    "\n",
    "\n",
    "\n",
    "#ElasticNet\n",
    "ENet = make_pipeline(RobustScaler(), ElasticNet(alpha=0.0005, l1_ratio=.9, random_state=3))\n",
    "\n",
    "#Kernel Ridge regression\n",
    "KRR = KernelRidge(alpha=0.6, kernel='polynomial', degree=2, coef0=2.5)\n",
    "\n"
   ]
  },
  {
   "cell_type": "code",
   "execution_count": 187,
   "metadata": {},
   "outputs": [],
   "source": [
    "GBoost = GradientBoostingRegressor(n_estimators=3000, learning_rate=0.05,\n",
    "                                   max_depth=4, max_features='sqrt',\n",
    "                                   min_samples_leaf=15, min_samples_split=10, \n",
    "                                   loss='huber', random_state =5)"
   ]
  },
  {
   "cell_type": "code",
   "execution_count": 188,
   "metadata": {},
   "outputs": [],
   "source": [
    "model_xgb = xgb.XGBRegressor(colsample_bytree=0.4603, gamma=0.0468, \n",
    "                             learning_rate=0.05, max_depth=3, \n",
    "                             min_child_weight=1.7817, n_estimators=2200,\n",
    "                             reg_alpha=0.4640, reg_lambda=0.8571,\n",
    "                             subsample=0.5213, silent=1,\n",
    "                             random_state =7, nthread = -1)\n",
    "\n"
   ]
  },
  {
   "cell_type": "code",
   "execution_count": 189,
   "metadata": {},
   "outputs": [],
   "source": [
    "model_lgb = lgb.LGBMRegressor(objective='regression',num_leaves=5,\n",
    "                              learning_rate=0.05, n_estimators=720,\n",
    "                              max_bin = 55, bagging_fraction = 0.8,\n",
    "                              bagging_freq = 5, feature_fraction = 0.2319,\n",
    "                              feature_fraction_seed=9, bagging_seed=9,\n",
    "                              min_data_in_leaf =6, min_sum_hessian_in_leaf = 11)\n"
   ]
  },
  {
   "cell_type": "code",
   "execution_count": 190,
   "metadata": {
    "scrolled": true
   },
   "outputs": [
    {
     "name": "stdout",
     "output_type": "stream",
     "text": [
      "\n",
      "Lasso score: 0.1127 (0.0074)\n",
      "\n",
      "ElasticNet score: 0.1129 (0.0074)\n",
      "\n",
      "Kernel Ridge score: 3.9671 (2.6681)\n",
      "\n",
      "Gradient Boosting score: 0.1137 (0.0075)\n",
      "\n",
      "Xgboost score: 0.1208 (0.0076)\n",
      "\n",
      "LGBM score: 0.1176 (0.0072)\n",
      "\n"
     ]
    }
   ],
   "source": [
    "score = rmsle_cv(lasso)\n",
    "print(\"\\nLasso score: {:.4f} ({:.4f})\\n\".format(score.mean(), score.std()))\n",
    "\n",
    "\n",
    "\n",
    "score = rmsle_cv(ENet)\n",
    "print(\"ElasticNet score: {:.4f} ({:.4f})\\n\".format(score.mean(), score.std()))\n",
    "\n",
    "\n",
    "score = rmsle_cv(KRR)\n",
    "print(\"Kernel Ridge score: {:.4f} ({:.4f})\\n\".format(score.mean(), score.std()))\n",
    "\n",
    "\n",
    "score = rmsle_cv(GBoost)\n",
    "print(\"Gradient Boosting score: {:.4f} ({:.4f})\\n\".format(score.mean(), score.std()))\n",
    "\n",
    "\n",
    "score = rmsle_cv(model_xgb)\n",
    "print(\"Xgboost score: {:.4f} ({:.4f})\\n\".format(score.mean(), score.std()))\n",
    "\n",
    "score = rmsle_cv(model_lgb)\n",
    "print(\"LGBM score: {:.4f} ({:.4f})\\n\" .format(score.mean(), score.std()))"
   ]
  },
  {
   "cell_type": "code",
   "execution_count": 191,
   "metadata": {},
   "outputs": [],
   "source": [
    "class AveragingModels(BaseEstimator, RegressorMixin, TransformerMixin):\n",
    "    def __init__(self, models):\n",
    "        self.models = models\n",
    "        \n",
    "    # we define clones of the original models to fit the data in\n",
    "    def fit(self, X, y):\n",
    "        self.models_ = [clone(x) for x in self.models]\n",
    "        \n",
    "        # Train cloned base models\n",
    "        for model in self.models_:\n",
    "            model.fit(X, y)\n",
    "\n",
    "        return self\n",
    "    \n",
    "    #Now we do the predictions for cloned models and average them\n",
    "    def predict(self, X):\n",
    "        predictions = np.column_stack([\n",
    "            model.predict(X) for model in self.models_\n",
    "        ])\n",
    "        return np.mean(predictions, axis=1)   "
   ]
  },
  {
   "cell_type": "code",
   "execution_count": 192,
   "metadata": {},
   "outputs": [
    {
     "name": "stdout",
     "output_type": "stream",
     "text": [
      " Averaged base models score: 1.0108 (0.6604)\n",
      "\n"
     ]
    }
   ],
   "source": [
    "\n",
    "\n",
    "averaged_models = AveragingModels(models = (ENet, GBoost, KRR, lasso))\n",
    "\n",
    "score = rmsle_cv(averaged_models)\n",
    "print(\" Averaged base models score: {:.4f} ({:.4f})\\n\".format(score.mean(), score.std()))\n",
    "\n"
   ]
  },
  {
   "cell_type": "code",
   "execution_count": 193,
   "metadata": {},
   "outputs": [],
   "source": [
    "class StackingAveragedModels(BaseEstimator, RegressorMixin, TransformerMixin):\n",
    "    def __init__(self, base_models, meta_model, n_folds=5):\n",
    "        self.base_models = base_models\n",
    "        self.meta_model = meta_model\n",
    "        self.n_folds = n_folds\n",
    "   \n",
    "    # We again fit the data on clones of the original models\n",
    "    def fit(self, X, y):\n",
    "        self.base_models_ = [list() for x in self.base_models]\n",
    "        self.meta_model_ = clone(self.meta_model)\n",
    "        kfold = KFold(n_splits=self.n_folds, shuffle=True, random_state=156)\n",
    "        \n",
    "        # Train cloned base models then create out-of-fold predictions\n",
    "        # that are needed to train the cloned meta-model\n",
    "        out_of_fold_predictions = np.zeros((X.shape[0], len(self.base_models)))\n",
    "        for i, model in enumerate(self.base_models):\n",
    "            for train_index, holdout_index in kfold.split(X, y):\n",
    "                instance = clone(model)\n",
    "                self.base_models_[i].append(instance)\n",
    "                instance.fit(X[train_index], y[train_index])\n",
    "                y_pred = instance.predict(X[holdout_index])\n",
    "                out_of_fold_predictions[holdout_index, i] = y_pred\n",
    "                \n",
    "        # Now train the cloned  meta-model using the out-of-fold predictions as new feature\n",
    "        self.meta_model_.fit(out_of_fold_predictions, y)\n",
    "        return self\n",
    "   \n",
    "    #Do the predictions of all base models on the test data and use the averaged predictions as \n",
    "    #meta-features for the final prediction which is done by the meta-model\n",
    "    def predict(self, X):\n",
    "        meta_features = np.column_stack([\n",
    "            np.column_stack([model.predict(X) for model in base_models]).mean(axis=1)\n",
    "            for base_models in self.base_models_ ])\n",
    "        return self.meta_model_.predict(meta_features)"
   ]
  },
  {
   "cell_type": "code",
   "execution_count": 194,
   "metadata": {},
   "outputs": [
    {
     "name": "stdout",
     "output_type": "stream",
     "text": [
      "Stacking Averaged models score: 0.1086 (0.0089)\n"
     ]
    }
   ],
   "source": [
    "stacked_averaged_models = StackingAveragedModels(base_models = (ENet, GBoost, KRR),\n",
    "                                                 meta_model = lasso)\n",
    "\n",
    "score = rmsle_cv(stacked_averaged_models)\n",
    "print(\"Stacking Averaged models score: {:.4f} ({:.4f})\".format(score.mean(), score.std()))"
   ]
  },
  {
   "cell_type": "code",
   "execution_count": 195,
   "metadata": {},
   "outputs": [],
   "source": [
    "def rmsle(y, y_pred):\n",
    "    return np.sqrt(mean_squared_error(y, y_pred))"
   ]
  },
  {
   "cell_type": "code",
   "execution_count": 196,
   "metadata": {},
   "outputs": [
    {
     "name": "stdout",
     "output_type": "stream",
     "text": [
      "0.0728310859790653\n"
     ]
    }
   ],
   "source": [
    "\n",
    "stacked_averaged_models.fit(train.values, y_train)\n",
    "stacked_train_pred = stacked_averaged_models.predict(train.values)\n",
    "stacked_pred = np.expm1(stacked_averaged_models.predict(test.values))\n",
    "print(rmsle(y_train, stacked_train_pred))"
   ]
  },
  {
   "cell_type": "code",
   "execution_count": 197,
   "metadata": {},
   "outputs": [
    {
     "name": "stdout",
     "output_type": "stream",
     "text": [
      "0.08062643587440334\n"
     ]
    }
   ],
   "source": [
    "model_xgb.fit(train, y_train)\n",
    "xgb_train_pred = model_xgb.predict(train)\n",
    "xgb_pred = np.expm1(model_xgb.predict(test))\n",
    "print(rmsle(y_train, xgb_train_pred))\n"
   ]
  },
  {
   "cell_type": "code",
   "execution_count": 198,
   "metadata": {},
   "outputs": [
    {
     "name": "stdout",
     "output_type": "stream",
     "text": [
      "0.06143503864002897\n"
     ]
    }
   ],
   "source": [
    "\n",
    "\n",
    "model_lgb.fit(train, y_train)\n",
    "lgb_train_pred = model_lgb.predict(train)\n",
    "lgb_pred = np.expm1(model_lgb.predict(test.values))\n",
    "print(rmsle(y_train, lgb_train_pred))\n",
    "\n",
    "\n"
   ]
  },
  {
   "cell_type": "code",
   "execution_count": 199,
   "metadata": {},
   "outputs": [
    {
     "name": "stdout",
     "output_type": "stream",
     "text": [
      "RMSLE score on train data:\n",
      "0.07019563348524795\n"
     ]
    }
   ],
   "source": [
    "'''RMSE on the entire Train data when averaging'''\n",
    "\n",
    "print('RMSLE score on train data:')\n",
    "print(rmsle(y_train,stacked_train_pred*0.70 +\n",
    "               xgb_train_pred*0.15 + lgb_train_pred*0.15 ))"
   ]
  },
  {
   "cell_type": "code",
   "execution_count": 200,
   "metadata": {},
   "outputs": [],
   "source": [
    "ensemble = stacked_pred*0.70 + xgb_pred*0.15 + lgb_pred*0.15"
   ]
  },
  {
   "cell_type": "code",
   "execution_count": 201,
   "metadata": {},
   "outputs": [],
   "source": [
    "test = pd.read_csv('test.csv')"
   ]
  },
  {
   "cell_type": "code",
   "execution_count": 202,
   "metadata": {},
   "outputs": [],
   "source": [
    "sub = pd.DataFrame()\n",
    "sub['Id'] = test_Id\n",
    "sub['SalePrice'] = ensemble\n",
    "sub.to_csv('submission.csv',index=False)"
   ]
  },
  {
   "cell_type": "code",
   "execution_count": null,
   "metadata": {},
   "outputs": [],
   "source": []
  }
 ],
 "metadata": {
  "kernelspec": {
   "display_name": "Python 3",
   "language": "python",
   "name": "python3"
  },
  "language_info": {
   "codemirror_mode": {
    "name": "ipython",
    "version": 3
   },
   "file_extension": ".py",
   "mimetype": "text/x-python",
   "name": "python",
   "nbconvert_exporter": "python",
   "pygments_lexer": "ipython3",
   "version": "3.5.6"
  }
 },
 "nbformat": 4,
 "nbformat_minor": 2
}
